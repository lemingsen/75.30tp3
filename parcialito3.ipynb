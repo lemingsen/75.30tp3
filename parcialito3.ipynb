{
 "cells": [
  {
   "cell_type": "markdown",
   "id": "513c3652",
   "metadata": {},
   "source": [
    "El código de este parcialito se encuentra en el siguiente repositorio: [https://github.com/lucashemmingsen/75.30tp3](https://github.com/lucashemmingsen/75.30tp3)"
   ]
  },
  {
   "cell_type": "markdown",
   "id": "6b909601",
   "metadata": {},
   "source": [
    "1. **Se quiere convocar a una elección a la que se presentan 4 candidatos (A, B, C y D). Hay 3 votantes del jurado que tienen\n",
    "sus siguientes rankings individuales:**\n",
    "\n",
    "    - Jurado 1: B ≻ C ≻ D ≻ A\n",
    "    - Jurado 2: C ≻ D ≻ A ≻ B\n",
    "    - Jurado 3: D ≻ A ≻ B ≻ C\n",
    "\n",
    "    **a. ¿Quién ganaría por eliminación iterativa?**\n",
    "\n",
    "    Con eliminación iterativa con orden A, B, C, D, primero se enfrentarían A y B, donde A resultaría ganador. Luego se enfrentarían A y C, donde C saldría victorioso. Finalmente se enfrentarían C y D, donde ganaría C y resultaría el ganador de la votación.\n",
    "\n",
    "    **b. ¿Quién ganaría por Borda rule?**\n",
    "    \n",
    "    En este caso tendríamos que:\n",
    "    \n",
    "    - A = 0 + 1 + 2 = 3\n",
    "    - B = 3 + 0 + 1 = 4\n",
    "    - C = 2 + 3 + 0 = 5\n",
    "    - D = 1 + 2 + 3 = 6\n",
    "\n",
    "    Por ende, por Borda rule el ganador sería D.\n",
    "        \n",
    "    **c. Suponé que estás a cargo de definir las reglas/formato de la votación, y sos un miembro corrupto que desea que si\n",
    "    o si gane la alternativa A (te asegura favores si logra ganar la elección). Definir (si existe) un sistema de votación\n",
    "    en el cual A resulte ganador de la elección. En caso de no existir, explicar por qué. ¿Cuál propiedad deseable de\n",
    "    los sistemas de votación no se está cumpliendo si, efectivamente, ganara A?**\n",
    "\n",
    "    Para lograr que la alternativa A gane la elección el miembro corrupto debería elegir un sistema de votación con eliminación sucesiva con orden D, C, B, A. De esta manera, primero se enfrentarían C y D, donde ganaría C, que se enfrentaría con B, y ganaría B. Finalmente se enfrentarían A y B, donde resultaría ganador A. Este sistema de votación no es Pareto-Eficiente, ya que todos los votantes tienen preferencia de D sobre A (se dice que A es Pareto-dominada por D), sin embargo nuestro sistema de votación está eligiendo a A como el ganador."
   ]
  },
  {
   "cell_type": "markdown",
   "id": "1c8041e1",
   "metadata": {},
   "source": [
    "2. **Considerando el modelo de cascadas de información visto en clase, supongamos que hay una nueva tecnología que los\n",
    "individuos pueden optar por aceptar o rechazar. Supongamos que cada uno que acepta la tecnología recibe una ganancia\n",
    "positiva o negativa (sin conocerla a priori). Estos valores son aleatorios para cada nodo, y si la tecnología es “Buena”,\n",
    "entonces el promedio será positivo, y si la tecnología es “Mala” el promedio será negativo (esta información es conocida\n",
    "por los individuos). Quienes rechacen la tecnología reciben ganancia 0. En este modelo, cuando a un individuo le toca\n",
    "elegir si acepta o rechaza la nueva tecnología, recibe la información de las ganancias de todos los que vinieron antes.**\n",
    "\n",
    "    **a. Supongamos que esta nueva tecnología es, en realidad, “Mala”. ¿Cómo afecta esta nueva información (qué ganancia\n",
    "    tuvo cada uno de los que vinieron antes) a la potencial formación de una cascada para que persista la nueva\n",
    "    tecnología? (No es necesario dar una demostración, simplemente argumentar)**\n",
    "    \n",
    "    En este modelo, si la tecnología es \"Mala\", se puede formar una pequeña cascada para que persista la nueva tecnología inicialmente, pero siempre va a depender de que los primeros valores de ganancia sean positivos, sin embargo, eventulamente esta cascada finalizará. Desde el momento que el promedio de las ganancias se hagan negativos, que eventualmente en algún momento sucederá por un tema probabilístico, los siguientes individuos seguramente comenzarán a rechazar la tecnología. Esto terminará produciendo una cascada de rechazo finalmente.\n",
    "\n",
    "    \n",
    "    \n",
    "    **b. Supongamos que esta nueva tecnología es, en realidad, “Buena”. ¿Puede surgir una cascada de rechazo de esta\n",
    "    nueva tecnología?**\n",
    "\n",
    "    En este caso, si la tecnología es \"Mala\", se puede forma una cascada de rechazo de esta nueva tecnología inicialmente si los primeros valores de ganancias son negativos, lo que impulsará a que el promedio de ganancia se mantenga negativo y todos los siguientes individuos comenzarán a rechazar la tecnología produciéndose de esta manera una cascada de rechazo y la tecnología se rechazará.\n",
    "\n"
   ]
  },
  {
   "cell_type": "markdown",
   "id": "9e44de4c",
   "metadata": {},
   "source": [
    "3. **Considerá la siguiente red, suponiendo que todos los nodos tienen inicialmente un comportamiento B. Cada nodo puede\n",
    "cambiar al comportamiento A si al menos la mitad de sus vecinos tiene dicho comportamiento.**\n",
    "\n",
    "    **a. Supongamos que los nodos E y F son early adopters del comportamiento A. Si los demás nodos siguen la regla del\n",
    "    umbral (threshold) para adherir a este nuevo comportamiento, ¿qué nodos implementarían el comportamiento A?**<br>\n",
    "\n",
    "    Si E y F son early adopters del comportamiento A, tanto C como I van a adoptar este comportamiento ya que superan el threshold (para el caso de C todos sus vecinos tienen el comportamiento A, y para I, dos de sus tres vecinos). Luego el nodo K adoptará el comportamiento A ya que uno de sus dos vecinos lo adoptó. El resto de los nodos (D, G, H, J) no adoptarán el nuevo comportamiento ya que menos de la mitad de sus vecinos no lo adoptaron.\n",
    "        \n",
    "    **b. Explicar a qué se debe que el comportamiento A no se propaga a través de toda la red en el escenario del punto\n",
    "    (a). ¿Qué característica de la red lo impide? (responder a esta pregunta no apuntando a nodos particulares sino a\n",
    "    presencias de ciertas características) ¿Dónde más tendría que haber otro early adopter de A sí o sí para que el\n",
    "    comportamiento se propague a través de toda la red?**\n",
    "\n",
    "    El comportamiento de A no se propaga a través de toda la red en el escenario del punto anterior ya que a las cascadas les cuesta entrar en clusters densamente poblados. En particular, si una cascada tiene un threshold *q*, va a tener éxito en propagarse dentro de un cluster si la densidad del cluster es menor a *1 - q*. Por lo tanto en estos casos, será necesario que haya early adopters dentro de estos clusters para que pueda propagarse.\n",
    "    \n",
    "    Para que el comportamiento de A se propague a través de toda la red se necesitaría que algún nodo del cluster (D, G, H, J) también sea un early adopter, para que eventualmente el resto del cluster también adopte el comportamiento A. Por ejemplo, si H es un early adopter, cuando K adopte el comportamiento de A, J lo adoptará ya que tendrá a dos de sus tres vecinos que lo adoptaron. Luego el comportamiento se propagará a G y finalmente a D."
   ]
  },
  {
   "cell_type": "markdown",
   "id": "7efc725b",
   "metadata": {},
   "source": [
    "4. **Tenemos dos grafos no dirigidos G 1 y G 2 , con la misma cantidad de vértices y aristas. G 1 es un grafo aleatorio de\n",
    "Erdös-Rényi, mientras G 2 es un grafo que cumple la ley de potencias en la distribución de los grados. Consideremos un\n",
    "virus que comienza en un único vértice aleatorio y se expande según el modelo *SIR*.**\n",
    "\n",
    "    **a. ¿En cuál grafo es más probable que ocurra una epidemia (i.e. se infecte al menos un 30% de la red)? Justificar\n",
    "    brevemente la respuesta.**\n",
    "\n",
    "    En un modelo *SIR* se tienen tres estados: *suceptible*, *infectado* y *recuperado*, pudiendo pasar de suceptible a infectado y de infectado a recuperado. Un nodo, una vez recuperado, no puede volver a infectarse.\n",
    "    \n",
    "    Los grafos modelados con *Erdös-Rényi* tienen una distribución binomial de los grados, es decir, tendremos una distribución acampanada donde el máximo de su distribución estará situada alrededor del grado promedio del grafo. En cambio, en un grafo que cumple la ley de potencias en la distribución de los grados, se tendrá una gran concentración de nodos de grados bajos, y esta concentración baja subitamente para nodos de grado mayor.\n",
    "    Debido a esto, suponiendo que G1 y G2 tienen dimensiones similares y se escoje un nodo en forma aleatoria en cada uno de los grafos, es muy probable que el nodo de G1 en este caso sea un nodo cercano al grado promedio, mientras que para el caso de G2 es muy probable que el nodo sea un periférico del grafo y de grado bajo. Por ende, el nodo escogido de G1 probablemente sea un nodo mucho más central que en el caso del nodo escogido de G2, por ende esto facilitará la transmisión del virus, independientemente de las tasas de nacimiento y mortalidad del virus.\n",
    "\n",
    "    **b. Supongamos que en vez de comenzar en un vértice aleatorio, la epidemia comenzara en el vértice de mayor grado de\n",
    "    G 1 y G 2 , respectivamente. ¿En cuál de los grafos es más probable que ocurra una epidemia? Justificar brevemente\n",
    "    la respuesta.**\n",
    "    \n",
    "    En el caso de que el nodo infectado sea el de mayor grado en ambas redes, en este caso, es más probable que la epidemia se transmita con mayor velocidad en G2, es decir, el grafo que cumple con la ley de potencias en la distribución de los grados, ya que si los dos grafos tienen una cantidad similar de nodos el grado del nodo central de G2 seguramente tendrá un grado mucho mayor que el de G1.\n",
    "    \n",
    "\n",
    "    **c. ¿Cómo afecta la existencia (o no existencia) de comunidades en la expansión de la epidemia?**\n",
    "\n",
    "    Un virus al entrar en una comunidad, al tener todos sus nodos muy conectados, genera que este se propague rapidamente por toda la comunidad. Por otro lado, las comunidades, generalmente están unidas al resto de la red por pocos lazos débiles. Ya que las comunidades están unidas por lazos débiles al resto de la red, al virus le costará un poco más entrar dentro de ella, pero una vez que entra, se exparcirá rápidamente por toda la comunidad. Otro aspecto a notarse, es que utilizando el modelo *SIR*, al infectarse un nodo vecino a la comunidad (unión por lazo debil), no logra propagar el virus al nodo vecino que pertenece a la comunidad, directamente ese camino quedará bloqueado para la entrada del virus en el futuro, por lo que si esto pasa con todos los puntos de acceso a la comunidad, el acceso del virus a la comunidad quedará bloqueado.\n",
    "    "
   ]
  },
  {
   "cell_type": "markdown",
   "id": "cf3ce20e",
   "metadata": {},
   "source": [
    "5. **Aplicar el Algoritmo REV2 al siguiente set de datos de reviews de productos de Amazon, para detectar potenciales\n",
    "usuarios maliciosos y otros ciertamente honestos. Por simplificación (y unificación de criterios), considerar γ 1 = γ 2 = 0.5.\n",
    "Obtener aquellos usuarios cuya justicia (fairness) es menor o igual a 0.2 (son maliciosos) y tienen al menos 5 reviews,\n",
    "así como la proporción de nodos que son extremadamente justos: aquellos con justicia mayor o igual a 0.9, y con al\n",
    "menos 10 reviews (aristas de salida).**"
   ]
  },
  {
   "cell_type": "markdown",
   "id": "8d9e68a8",
   "metadata": {},
   "source": [
    "Se utilizó el algoritmo REV2 sobre el siguiente set de datos: https://www.kaggle.com/datasets/saurav9786/amazon-product-reviews. Se corrieron 10 ciclos del algoritmo. Debido a que con un fairness menor o igual a 0.2 y al menos 5 reviews el algoritmos nos devolvía un solo usuario malicioso, optamos por elevar la cota superior de fairness a 0.3.\n",
    "Tanto el dataset como el código también se encuentran en el siguiente repositorio: https://github.com/lucashemmingsen/75.30tp3. A continuación se muestra el código y sus resultados."
   ]
  },
  {
   "cell_type": "code",
   "execution_count": 4,
   "id": "753c121f",
   "metadata": {},
   "outputs": [
    {
     "name": "stdout",
     "output_type": "stream",
     "text": [
      "Nodes: 4677698 Edges: 7824482\n",
      "USUARIOS HONESTOS:\n",
      "A1LMUHXVNBLTGZ,AVVFMZTW94F8,A3R52J21NWLWW2,AF6XVE84L68BM,AI6CX6EK67FJJ,A3DH74L21G9QFJ,A37FULV9NLQYXU,A2GBQVP43UVKTA,AWBUA3QUM6DRY,A3EZD11AFUX23K,A15BN1AMRT8FP1,A22XSRK69MIRG4,ARFRKSZXZF0PS,A127GZ51PD786F,A2ZNMPZMLRRC8R,A1ISGQPXW3BOHN,AGC75EPFB7CYD,AO49H7W3JR6RL,A2F0XN0L5K7N0T,AY5VJCY3K4DD8,A24KBB6X5URQ63,A1TR1R2QKWRSRA,A3QJX63UDE76OA,AK0PL6SBDEJB9,A29CT3MXKBWVQ6,A150MRVGEWP0UT,A313DADVI76HKM,A21CL3NXLUNU9E,A29K3DJ2VUC161,A1QWGPBP61DPQP,A13VHU0AT3JOLO,A1NU5AWRPSVNZ6,AAGVCLVJPXRSJ,AUBKXJYRKGOF4,AUKS4R8344FYI,A1G05NHR0OUNA5,A2O7IKI1X057WF,A37YHG80LPSWOZ,A3PXDMDORWG94N,ATZ4J6SWWC3IB,A2V94KBIU40GLJ,A2Z60KCBP4PMJV,A3EFSBIEI3NQX1,A29XE4FQLKI2RQ,A2TSXV49LI7QV2,A1CFHQB38SP6FI,A2OBFZZ21JVSL2,A1HIK501QJ557Y,A2IH8UUAUHMGLW,AX04HWP70EXLD,A3LVMQC1H8P7T1,AWPC7EEVYZ813,ALLAFBUDXCMIQ,AGXIQ5L4AV98J,A1RZ3NSBXATFS3,AKS80VIR3HK51,A2QG57J57D1XU5,A2VC8DKCPHMI2J,A24WI3OOZ6KXY8,A2FSHYBOKPZ6YU,AORSH1CU6IPHC,A242NT93V44CAF,A15VECCEZF2978,A2N61X08FM8WCT,A362RDKIELNGRO,AXISEPTJE884B,A3V5H95A9S7MK4,AD8MTPO76AYGB,AMLIN6BDW4WCK,A23S8XE9IJWFNM,A1IPAD2MBCVVT5,ADIDN6XPZSXWB,A3VYCWBO41LI0R,A1FGEAEGWVYJ2I,A4DIHTMZHKYGI,A182BL642WB691,A2KW2CYEFOG5RV,AMZ01E1A3WV6M,A1YBK8Y8ESTL26,ABVZ8AHVYH0NF,A189L1FE2V8U,AC1ZTPFXAT9U6,A1Y7RWE61JYBF2,A2C7RD1PVTNS8B,A3V1DF7J7ORYS8,A20XZ7TXYU1QEE,A2KBGB4GFPQRO6,A3JAH1KIE48M7E,A3SV9W045EB29E,AIQLEMBZQ4WQQ,A16KKQXQCFG8VL,AFBQW4UGDPWJS,A393MV5JXZF5AP,A1E0STITWHJ0Z5,A10DUR426OLQIA,A3ITRMGQR1K1O9,AEGAWL1J7R8DX,A2L9D2T240905Z,A1Q5N7TX9M3SPW,ASHPEB7FPWATD,A2OHGG7WO1Y041,A1F4MNJDCOAX7U,A19MUBPFBF4TQU,A19UQIVY1JM9R9,A2VET003MCRZM2,A3N9EAN3RAQRMS,A2IIRDHDYFL42P,A1H4BC52AQJLQJ,A26SN2CVQM4FKM,A3QICC3V0SAPWT,A1YMJ06HF5JW43,A2IK6FJZPDAXW4,AXGVX02ZB0YCZ,A2W8SXY9PZHKIW,A1CSOOLZWUWB57,A2HVEVU2RBTQ1L,A37QGON7BCCVYB,A3W31W407OHUDU,A16MAT54GTKJYS,AEVSRK7S3K8QU,A158GV8EBVD0WN,AV6BQVVC1XE4E,A1IR0HICH5PVC6,A2GPLV50TR8UK0,A2U0A1VT6WTQ0N,A3M1F7BNER0SN5,A3102RL8MM5J2Z,A1TEBSNK5A9XX9,A22I3TETLAOW7X,A3ERNYS02WFF1N,A3UV4P31G4LT0,A2GCJMPR4E9X04,A1OYQDBJKRS1UR,AILV4CXK8LEBV,AFQ1EGZML6OZL,A1L2YGNPQZI0YU,AVGHP6NQ8EANS,A1UNFJE6W5I2LV,AINGNE1J86KTH,A1QFC3ZKIIRG4J,ADZ1E2SYWSG99,A3AN7G2565T80X,A3BESG0D1NJOHT,A2NQWI4N95FU2G,AD4QJCW3DML1V,A2FCD6CIYJU3W8,ACCTVWELQLBWR,A2DUMTXCZ6T6TI,A1BTNPMESS99PL,A1KNIKTZL05V0F,A22BLJR5YR5Y2E,A3I29ETB8QSQZA,A21FO8HXJECL08,A3SWKQ5C1JA6KA,A3DBH7SSMLN0A1,A13PKCWW3W5WJ4,A1EADPYC9GV6Y0,A3BA9J9G2C1YSG,ATQ2J7U9Y23E2,A3J7KKG9O7KAZM,A37ZHLFHHWBO5E,A17D77DFID0GZG,A2UEH0U5CV3053,ARJ97ZO02Q2PX,A2CVFMCOCD6LE4,A64EG33PLEGLP,A1KC319LTINC7J,AJ2DU4JFF2DYT,A26TN8R4COZSJ4,A2JNGOT2TEZ09L,ALO0EXS224ZSU,A3L9P7Y3T1ACR,A129ODJ5LISTF8,A2X6037PJLQGEC,AWIOLCF6GX1TR,A178OW8HBO4FZF,A1J8FM4JZ2L1U7,A5PZ6VU6AG6SV,A2754QG0NENPVX,ANVTGPMF2LNBI,A2RNCCOXUP695,A1ZW64HE8UW6MT,A32HAMICRE52M,A16F8QZRRJPRX1,A3UZNR6I1YMMXB,A25HXN3SKYOBU6,A3FOASYBGBOETQ,ADULG6NEGK5QN,A19V3F70CB0NNF,A1PE5LTX1JODTE,A2JJTXX1JF9B49,AXU5M1IKME4M0,AJEZOYA4MKA8C,A3BY8J0YL12LT5,A1130AMY9KKIBL,AH4HBHRM707WA,AUEPX4XS1U4BY,A19618Z0CRHH3A,A2PGR4POLH29A3,A3KMTRDUT0T1ZJ,A2VAZIULU9APK8,AT78NX5LQDGPN,A3G52XWKNLBC3,AWBIPRIWOV495,A29KDFQ0VJQFU7,A24FFPKHETA4U,A1Z3QJ7S9YSLUE,A1OXQAY95B8H84,AG019N8YF04VX,A3BB4F97OOME0P,A3AHM7S37977OB,A1UOKAFJLULERV,A1G6IPZ4FCUA20,A2WPK6V72I75MV,ASEYZYO85DOTA,A32IW1O6ATISJ0,A2EQZ0EFUY4YP,A10HA2WMZC4TJR,A1D7ADJHRILFT0,ANP0AC5FJISWH,AZLDBDKGJ2HU9,A1VXBI4OL74SOT,A3GHTK2FV1U3AO,A1AAFN1DYNMFWR,A2KNZ7MRTIOIDK,A3MW9Y5DVZC91H,A3UZ9O06G1QG70,A3BH9XC0BVO1AG,AUKDOB4DXLZD7,A19XKR1OZI46X6,A1PIGS0E1W534,A35DZ2414ZIFSQ,A3BTL4FV6ODKAT,A3TZDNT0VBR82A,A2F2BFY6FBM9IL,A1X8X47IEVEAZD,A2TWY656F94W0Z,A3LIG7ZZ5OFCWV,AWJLQZ4UP2TNL,A5OLEEWYH6NJA,A23HJIO9HORYGJ,A1PXNZ92SXPMU4,A16M4DUV772A5P,A3KXW71PSBR7OB,A14X9ZS4UVLLU,A56HXFPP8GUCS,A2D52GYT3BEAQX,A17LCDEFG5OXSQ,A3L82NI82NUDYM,A21OTH2LUE1NJ,A335Z7QS1U58X4,A3GH2VSY67AD2Q,A1LK3VZ7AXZ52C,A2NHKCBKO382CJ,A33N3Z9MYSIPRO,A1EVHA2O4N3PE8,A2UGR7VULJBQ2N,A37RTM7Y7O6GLN,A3QWYSPXCCYYNW,A2NJOH0ESFZ1D6,AMMYSK6O8AG6D,A193X4MV43Z6WY,A1ORXCWSRWDTOK,A3NV9BJPA3FJYB,A1UBSG3ILBWF6E,A2KX54XAH5YGAW,A3TANESAF34ISM,A1FD519O6CMVDV,A2YMN7GAW51S6T,A2U38J8EIZQ29A,A3UJNWD1UG0U53,A2PGM0MJYSGNQP,A2ZX7WLWYETI0T,AYLP4GB1TA7W2,A2F5B09QDQ9CSY,A2UENE0RI2LTO3,ASN50GDDPTV2X,A25RHS4R7N67SV,A26ZAN3YJ1CE39,A9W2CF4Y7W790,A138H412RUV6HT,A3TN5TXFB97A75,AJSLT738XDIGF,A4047ZP3KTY8Y,A32DAI53JLA77L,A2O5LFRY1R43VU,A3IBUNOV6DQOG4,A2KRW53YMGI20P,A2LOBAZBVYV94C,A33HEQ56IVOY84,A2JOVN3OCXAXWX,A1VQM4XDMANK5H,A30FLJDFNPDWWK,A10DX0AIXHBLT9,A34HMNURWL2GB2,A3LMJPZATWW89N,A2WZV4V9HEKB8A,AJVODJFKBSL8H,A2273Y5D9ZXQP5,A2DLDLDTV3951N,A1CGHDFA5DVEM5,A1U0VQ6GGR0RJY,A36JW544D5W8PT,A5X3OZ3GTDVM4,A3CN86YOP0QMGA,A2ZKB9XFUCOWSH,A20UQ8FQ8ON5BS,AGGNR8HJ7N8DF,AZUCRHSUGZX6N,A28ZH0HA4Y6N5V,AGPZI6LD0OTCR,A3NSEKP1W6WBOC,A16JT7E5121OAB,A7QO3K6URKTMV,A2Q481LJ6PGVZ0,A3LG8W19C1TVRM,A37EOLAE5SITDL,A1LGTDEV5GQFDY,A2L6QS8SVHT9RG,A264H78TL8KTUX,AKE3QU4INDN43,A3Q2406BDV9VM,A2KPDRY4YRR7WP,ABKQ6LO184GRG,A2OAS9BIIM15V0,A3LZIMOE4ALOZO,A3F54RM9IXQ8IJ,A1O7AKVUH4482D,A2MW90O3P2GOO5,A2632K1EPL1NFJ,A1FQMYVNQDW99I,A12CYCSQWURQQ1,AIW18632MS0Z7,A1GV9YKRGB4MSQ,A1O4J9WSLAYVEF,A3OGJWZBTZ8JU0,A2IXZYD5OJXTUJ,AM8J1UVGVYAL4,A3J7VJKUFYHR55,A1J6T9E6PA6SYT,A2OAE9NZTTWS4,A216Z266WSNL4S,AFMLXPFZUU72R,A7HVGZVW0VBTO,A3A671GTJDBYP7,A17HKMNGZVXXGJ,A345XOQZWYOXSN,A34GJZ59XS9CUX,A1JVHY4TJHOVLQ,A278P6YIP46M74,A2WFZWRYWLC20S,A2WWME6O1TUUGG,AO42WR8XF5N0T,AZL4S5DPF65BK,A2D8T8HTOHCR2I,A24I3YLQ4HUDV5,A2PHZHZIRZCDGV,A2NUHWMHA9XNKV,A5IB4TLAEY7SU,A1ENVVVMP8WXYW,A2VJNS75D4WPL,A3IIBMVS5WHM5L,A27H9DOUGY9FOS,A9NGI8U2MEJ08,A2KTI9ZCJAUZA,A1K76TQUBUAH6E,A14H842QXFTOBZ,A10P1YIWCMGLKM,AMESW162KRMM1,A2HHTJR5RFT1BS,A103B6MQ5IF2BK,A3LO9QLVW3PH84,A8CSNKZX4TWV2,ATIX7KE42V5C9,A3V9LN75FJCV16,A3KYOXGUXSGY5B,ASVE4IDOBOXN5,A1VB3ELNSUGULE,AK9FTWLCW09RR,A1B9SLSI2GBFTB,A3OVD1K3DYKMKE,A1Y32FBX45NCNL,A2S4NT9KQ5PXVN,A34QRIUODNE0WO,AI07HX1IBD8KK,A18BMA5D7WJ5SA,AYPEPA3VS4KDM,AFMY7RKRWMZSU,A1F70KXI4UC60P,A18WU2OL0NPM2F,A8SII63G1RISZ,A2IQYFBOJHOLJJ,A3U5JCXIXTGSLN,A3MSIMW9K5METI,A2ZEMRDW8GRZZS,A3SD3E6FIS6CS9,A2QSBOAAGW1I1H,AFIC1B2OMXMVF,A19KLUZ1XD3SRN,A2OMVLE72OIAZJ,A21MEWCY4UI195,A2T67SR2FV79O2,A25BP2AZJDM7QL,APFSGJQUOWFVS,A2I8KUDXTC9WYI,A2CMYN5JP27Y3O,ATZ4ETDUWDY5C,A19FZ6LJDCO4Q,A3QAMIFHNADIL2,A35HZ87UWCTOAJ,AR21MJKTQ7FQF,A1E9Z0CK7PLXTB,A2ORLJWY9Q3BSW,A39RVSTYALW9VZ,A3UWFFS3BAQWQI,A1PB6OT0OOPKNQ\n",
      "TOTAL DE USUARIOS HONESTOS: 416\n",
      "USUARIOS MALICIOSOS:\n",
      "A8BIXFRGO1H9N,A28OT1K042UIK5,A2PEWTOJF0LT8J,A2G4GBZBU0191J,A3OI05RGQQN33R,A3TWCBY131EVQ0,A16PNERQT4XSN3,A25VNYHJV813J9,ADPRCDLM1LHKO,A3AKBW0MXREVID,A2IPVL2ZMRK98Q,A12UT0DXXDQE1I,A2W7MVWWUVAIXF,A2YLLEO6X5516K,ARTEBG4476RHV,A3OJDREFH6BAFD,A38BJ6WUVSR3W9,A1WXA5IXEWJX7L,AF6JIG0PLFBLC,A2OIZMMSW67PP,A3N8M496KUGOFY,A1HQJ25WTC5BKC,ALARXK0CW3FZ2,A1JZNA9CYNDIG5,A28ZX0WY495DAI,A3ECP9FPY96ST2,AU5A1RF4NCMWG,A1YLGQ0IV5OJQ9,A2MZIPXZR5DBL7,A1WYFF9WII2SBE,A1CJTPH6BQERSN,AAILFT8641S2T,A122BP6MJZL20L,A135DQ1W2SWG7R,A1N1DHXUZ4T943,A17VCT4KJ4MAB3,A14RC6K7XX9HOP,A23T3FUTTM4GUF,A3UA96OED831XF,A3VQ1D0OILACKN,A3VNX3A8V805AL,A1ILBK17KOOOYN,AWDJV2JC8S7RE,A1JLNEVY9J19MU\n",
      "TOTAL DE USUARIOS MALICIOSOS: 44\n"
     ]
    }
   ],
   "source": [
    "import networkx as nx\n",
    "import csv\n",
    "\n",
    "CSV_FILENAME = \"ratings_Electronics (1).csv\"\n",
    "REV2_ROUNDS = 10\n",
    "\n",
    "def create_graph(filename):\n",
    "    g = nx.DiGraph()\n",
    "    with open(filename) as file:\n",
    "        reader = csv.reader(file)\n",
    "        for row in reader:\n",
    "            if row[0] not in g:\n",
    "                g.add_node(row[0], type=\"user\", fairness=1)\n",
    "            if row[1] not in g:\n",
    "                g.add_node(row[1], type=\"product\", goodness=1)\n",
    "            g.add_edge(row[0], row[1], rating=(float(row[2])-3)/2, reliability=1)    \n",
    "    return g\n",
    "\n",
    "def update_fairness(g):\n",
    "    for node, data in g.nodes(data=True):\n",
    "        if data['type'] == 'user':\n",
    "            reliability_sum = 0\n",
    "            number_of_edges = 0\n",
    "            for edge in g.edges(node, data=True):\n",
    "                reliability_sum += edge[2]['reliability']\n",
    "                number_of_edges += 1\n",
    "            g.nodes[node]['fairness'] = reliability_sum / number_of_edges\n",
    "\n",
    "def update_goodness(g):\n",
    "    for node, data in g.nodes(data=True):\n",
    "        if data['type'] == 'product':\n",
    "            product_sum = 0\n",
    "            number_of_edges = 0\n",
    "            for edge in g.in_edges(node, data=True):\n",
    "                product_sum += edge[2]['reliability'] * edge[2]['rating']\n",
    "                number_of_edges += 1\n",
    "            g.nodes[node]['goodness'] = product_sum / number_of_edges\n",
    "    \n",
    "def update_reliability(g):\n",
    "    for edge in g.edges(data=True):\n",
    "        reliability =  0.5 * g.nodes[edge[0]]['fairness'] + 0.5 * (1 - abs(edge[2]['rating'] - g.nodes[edge[1]]['goodness'])/2)\n",
    "        g.edges[edge[0], edge[1]]['reliability'] = reliability\n",
    "\n",
    "def rev2(g, rounds):\n",
    "    for i in range(rounds):\n",
    "        update_fairness(g)\n",
    "        update_goodness(g)\n",
    "        update_reliability(g)\n",
    "    \n",
    "def the_good_the_bad_and_the_ugly(g):    \n",
    "    maliciosos = []\n",
    "    honestos = []\n",
    "    for node, data in g.nodes(data=True):\n",
    "        if data['type'] == 'user' and data['fairness'] < 0.3 and g.out_degree(node) >= 5:      \n",
    "            maliciosos.append(node)\n",
    "        if data['type'] == 'user' and data['fairness'] > 0.9 and g.out_degree(node) >= 10:      \n",
    "            honestos.append(node)\n",
    "    print('USUARIOS HONESTOS:')\n",
    "    print(\",\".join(honestos))\n",
    "    print(f'TOTAL DE USUARIOS HONESTOS: {len(honestos)}')\n",
    "    print('USUARIOS MALICIOSOS:')\n",
    "    print(\",\".join(maliciosos))\n",
    "    print(f'TOTAL DE USUARIOS MALICIOSOS: {len(maliciosos)}')\n",
    "\n",
    "g = create_graph(CSV_FILENAME)\n",
    "print(f'Nodes: {g.order()} Edges: {g.size()}')\n",
    "rev2(g, REV2_ROUNDS)\n",
    "the_good_the_bad_and_the_ugly(g)"
   ]
  }
 ],
 "metadata": {
  "kernelspec": {
   "display_name": "Python 3.8.10 64-bit",
   "language": "python",
   "name": "python3"
  },
  "language_info": {
   "codemirror_mode": {
    "name": "ipython",
    "version": 3
   },
   "file_extension": ".py",
   "mimetype": "text/x-python",
   "name": "python",
   "nbconvert_exporter": "python",
   "pygments_lexer": "ipython3",
   "version": "3.8.10"
  },
  "vscode": {
   "interpreter": {
    "hash": "916dbcbb3f70747c44a77c7bcd40155683ae19c65e1c03b4aa3499c5328201f1"
   }
  }
 },
 "nbformat": 4,
 "nbformat_minor": 5
}
